{
 "cells": [
  {
   "cell_type": "code",
   "execution_count": 3,
   "metadata": {},
   "outputs": [
    {
     "name": "stdout",
     "output_type": "stream",
     "text": [
      "Requirement already satisfied: geopy in c:\\python312\\lib\\site-packages (2.4.1)\n",
      "Requirement already satisfied: geographiclib<3,>=1.52 in c:\\python312\\lib\\site-packages (from geopy) (2.0)\n",
      "Note: you may need to restart the kernel to use updated packages.\n"
     ]
    },
    {
     "name": "stderr",
     "output_type": "stream",
     "text": [
      "\n",
      "[notice] A new release of pip is available: 23.2.1 -> 24.3.1\n",
      "[notice] To update, run: python.exe -m pip install --upgrade pip\n"
     ]
    }
   ],
   "source": [
    "%pip install geopy"
   ]
  },
  {
   "cell_type": "code",
   "execution_count": 4,
   "metadata": {},
   "outputs": [],
   "source": [
    "import pandas as pd\n",
    "from geopy.geocoders import Nominatim"
   ]
  },
  {
   "cell_type": "code",
   "execution_count": 5,
   "metadata": {},
   "outputs": [],
   "source": [
    "file_path = '215d3c1ea7d0c562774a8c6e4b157ac0.xlsx'\n",
    "data = pd.ExcelFile(file_path)\n",
    "df = data.parse('2022')"
   ]
  },
  {
   "cell_type": "code",
   "execution_count": 7,
   "metadata": {},
   "outputs": [],
   "source": [
    "columns_to_extract = [\n",
    "   'Miejscowość',\n",
    "   'Powiat',\n",
    "   'Województwo'\n",
    "]\n",
    "\n",
    "df = df[columns_to_extract]\n",
    "\n",
    "geolocator = Nominatim(user_agent=\"poland_cities_locator\")\n",
    "\n",
    "# Get coordinates for each city\n",
    "city_coordinates = []\n",
    "\n",
    "\n",
    "for index, entry in df.iterrows():\n",
    "    # Construct the query string with additional parameters\n",
    "    query = f\"{entry['Miejscowość']}, {entry['Powiat']}, {entry['Województwo']}\"\n",
    "    \n",
    "    try:\n",
    "        # Use geocode with country codes to limit the search area\n",
    "        location = geolocator.geocode(query, addressdetails=True, country_codes='pl', timeout=10)\n",
    "        \n",
    "        if location:\n",
    "            city_coordinates.append({\n",
    "                \"City\": entry['Miejscowość'],\n",
    "                \"Region\": entry['Powiat'],\n",
    "                \"Latitude\": location.latitude,\n",
    "                \"Longitude\": location.longitude\n",
    "            })\n",
    "        else:\n",
    "            city_coordinates.append({\n",
    "                \"City\": entry['Miejscowość'],\n",
    "                \"Region\": entry['Powiat'],\n",
    "                \"Latitude\": None,\n",
    "                \"Longitude\": None\n",
    "            })\n",
    "    except Exception as e:\n",
    "        print(f\"Error geocoding {entry['Miejscowość']}: {e}\")\n",
    "        city_coordinates.append({\n",
    "            \"City\": entry['Miejscowość'],\n",
    "            \"Region\": entry['Powiat'],\n",
    "            \"Latitude\": None,\n",
    "            \"Longitude\": None\n",
    "        })\n",
    "    \n",
    "    # Respect Nominatim's usage policy by adding a delay between requests\n",
    "\n",
    "# Convert the list to a DataFrame\n",
    "df_cities = pd.DataFrame(city_coordinates)"
   ]
  },
  {
   "cell_type": "code",
   "execution_count": null,
   "metadata": {},
   "outputs": [],
   "source": []
  }
 ],
 "metadata": {
  "kernelspec": {
   "display_name": "Python 3",
   "language": "python",
   "name": "python3"
  },
  "language_info": {
   "codemirror_mode": {
    "name": "ipython",
    "version": 3
   },
   "file_extension": ".py",
   "mimetype": "text/x-python",
   "name": "python",
   "nbconvert_exporter": "python",
   "pygments_lexer": "ipython3",
   "version": "3.12.0"
  }
 },
 "nbformat": 4,
 "nbformat_minor": 2
}
