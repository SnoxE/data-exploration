{
 "cells": [
  {
   "cell_type": "code",
   "execution_count": 1,
   "metadata": {},
   "outputs": [
    {
     "name": "stdout",
     "output_type": "stream",
     "text": [
      "Collecting geopy\n",
      "  Obtaining dependency information for geopy from https://files.pythonhosted.org/packages/e5/15/cf2a69ade4b194aa524ac75112d5caac37414b20a3a03e6865dfe0bd1539/geopy-2.4.1-py3-none-any.whl.metadata\n",
      "  Downloading geopy-2.4.1-py3-none-any.whl.metadata (6.8 kB)\n",
      "Collecting geographiclib<3,>=1.52 (from geopy)\n",
      "  Obtaining dependency information for geographiclib<3,>=1.52 from https://files.pythonhosted.org/packages/9f/5a/a26132406f1f40cf51ea349a5f11b0a46cec02a2031ff82e391c2537247a/geographiclib-2.0-py3-none-any.whl.metadata\n",
      "  Downloading geographiclib-2.0-py3-none-any.whl.metadata (1.4 kB)\n",
      "Downloading geopy-2.4.1-py3-none-any.whl (125 kB)\n",
      "   ---------------------------------------- 0.0/125.4 kB ? eta -:--:--\n",
      "   --- ------------------------------------ 10.2/125.4 kB ? eta -:--:--\n",
      "   ------------ -------------------------- 41.0/125.4 kB 653.6 kB/s eta 0:00:01\n",
      "   ---------------------------------------- 125.4/125.4 kB 1.2 MB/s eta 0:00:00\n",
      "Downloading geographiclib-2.0-py3-none-any.whl (40 kB)\n",
      "   ---------------------------------------- 0.0/40.3 kB ? eta -:--:--\n",
      "   ---------------------------------------- 40.3/40.3 kB 1.9 MB/s eta 0:00:00\n",
      "Installing collected packages: geographiclib, geopy\n",
      "Successfully installed geographiclib-2.0 geopy-2.4.1\n",
      "Note: you may need to restart the kernel to use updated packages.\n"
     ]
    },
    {
     "name": "stderr",
     "output_type": "stream",
     "text": [
      "\n",
      "[notice] A new release of pip is available: 23.2.1 -> 24.3.1\n",
      "[notice] To update, run: python.exe -m pip install --upgrade pip\n"
     ]
    }
   ],
   "source": [
    "%pip install geopy"
   ]
  },
  {
   "cell_type": "code",
   "execution_count": 7,
   "metadata": {},
   "outputs": [],
   "source": [
    "import time"
   ]
  },
  {
   "cell_type": "code",
   "execution_count": 4,
   "metadata": {},
   "outputs": [
    {
     "data": {
      "text/html": [
       "<div>\n",
       "<style scoped>\n",
       "    .dataframe tbody tr th:only-of-type {\n",
       "        vertical-align: middle;\n",
       "    }\n",
       "\n",
       "    .dataframe tbody tr th {\n",
       "        vertical-align: top;\n",
       "    }\n",
       "\n",
       "    .dataframe thead th {\n",
       "        text-align: right;\n",
       "    }\n",
       "</style>\n",
       "<table border=\"1\" class=\"dataframe\">\n",
       "  <thead>\n",
       "    <tr style=\"text-align: right;\">\n",
       "      <th></th>\n",
       "      <th>city</th>\n",
       "      <th>latitude</th>\n",
       "      <th>longitude</th>\n",
       "    </tr>\n",
       "  </thead>\n",
       "  <tbody>\n",
       "    <tr>\n",
       "      <th>0</th>\n",
       "      <td>lisowo</td>\n",
       "      <td>52.463598</td>\n",
       "      <td>22.625987</td>\n",
       "    </tr>\n",
       "  </tbody>\n",
       "</table>\n",
       "</div>"
      ],
      "text/plain": [
       "     city   latitude  longitude\n",
       "0  lisowo  52.463598  22.625987"
      ]
     },
     "execution_count": 4,
     "metadata": {},
     "output_type": "execute_result"
    }
   ],
   "source": [
    "from geopy.geocoders import Nominatim\n",
    "\n",
    "# List of cities and their corresponding regions\n",
    "cities = [\n",
    "    \"lisowo\"\n",
    "]\n",
    "\n",
    "# Initialize geolocator\n",
    "geolocator = Nominatim(user_agent=\"poland_cities_locator\")\n",
    "\n",
    "# Get coordinates for each city\n",
    "city_coordinates = []\n",
    "for city in cities:\n",
    "    location = geolocator.geocode(city)\n",
    "    if location:\n",
    "        city_coordinates.append({\n",
    "            \"city\": city,\n",
    "            \"latitude\": location.latitude,\n",
    "            \"longitude\": location.longitude\n",
    "        })\n",
    "    else:\n",
    "        city_coordinates.append({\n",
    "            \"city\": city,\n",
    "            \"latitude\": None,\n",
    "            \"longitude\": None\n",
    "        })\n",
    "\n",
    "import pandas as pd\n",
    "\n",
    "# Convert to DataFrame for better representation\n",
    "df_cities = pd.DataFrame(city_coordinates)\n",
    "df_cities"
   ]
  },
  {
   "cell_type": "code",
   "execution_count": 5,
   "metadata": {},
   "outputs": [],
   "source": [
    "file_path = '215d3c1ea7d0c562774a8c6e4b157ac0.xlsx'\n",
    "data = pd.ExcelFile(file_path)\n",
    "df = data.parse('2022')"
   ]
  },
  {
   "cell_type": "code",
   "execution_count": 11,
   "metadata": {},
   "outputs": [],
   "source": [
    "columns_to_extract = [\n",
    "   'Miejscowość',\n",
    "   'Powiat',\n",
    "   'Województwo'\n",
    "]\n",
    "\n",
    "df = df[columns_to_extract]\n",
    "\n",
    "\n",
    "for index, entry in df.iterrows():\n",
    "    # Construct the query string with additional parameters\n",
    "    query = f\"{entry['Miejscowość']}, {entry['Powiat']}, {entry['Województwo']}\"\n",
    "    \n",
    "    try:\n",
    "        # Use geocode with country codes to limit the search area\n",
    "        location = geolocator.geocode(query, addressdetails=True, country_codes='pl', timeout=10)\n",
    "        \n",
    "        if location:\n",
    "            city_coordinates.append({\n",
    "                \"City\": entry['Miejscowość'],\n",
    "                \"Region\": entry['Powiat'],\n",
    "                \"Latitude\": location.latitude,\n",
    "                \"Longitude\": location.longitude\n",
    "            })\n",
    "        else:\n",
    "            city_coordinates.append({\n",
    "                \"City\": entry['Miejscowość'],\n",
    "                \"Region\": entry['Powiat'],\n",
    "                \"Latitude\": None,\n",
    "                \"Longitude\": None\n",
    "            })\n",
    "    except Exception as e:\n",
    "        print(f\"Error geocoding {entry['Miejscowość']}: {e}\")\n",
    "        city_coordinates.append({\n",
    "            \"City\": entry['Miejscowość'],\n",
    "            \"Region\": entry['Powiat'],\n",
    "            \"Latitude\": None,\n",
    "            \"Longitude\": None\n",
    "        })\n",
    "    \n",
    "    # Respect Nominatim's usage policy by adding a delay between requests\n",
    "    time.sleep(1)\n",
    "\n",
    "# Convert the list to a DataFrame\n",
    "df_cities = pd.DataFrame(city_coordinates)\n",
    "\n"
   ]
  },
  {
   "cell_type": "code",
   "execution_count": 13,
   "metadata": {},
   "outputs": [],
   "source": [
    "df_copy = df_cities.copy()"
   ]
  },
  {
   "cell_type": "code",
   "execution_count": 18,
   "metadata": {},
   "outputs": [],
   "source": [
    "columns_to_remove = ['city', 'latitude', 'longitude']\n",
    "df_copy = df_copy.drop(columns=columns_to_remove)\n",
    "df_copy = df_copy.drop(index=0)"
   ]
  },
  {
   "cell_type": "code",
   "execution_count": 19,
   "metadata": {},
   "outputs": [
    {
     "data": {
      "text/html": [
       "<div>\n",
       "<style scoped>\n",
       "    .dataframe tbody tr th:only-of-type {\n",
       "        vertical-align: middle;\n",
       "    }\n",
       "\n",
       "    .dataframe tbody tr th {\n",
       "        vertical-align: top;\n",
       "    }\n",
       "\n",
       "    .dataframe thead th {\n",
       "        text-align: right;\n",
       "    }\n",
       "</style>\n",
       "<table border=\"1\" class=\"dataframe\">\n",
       "  <thead>\n",
       "    <tr style=\"text-align: right;\">\n",
       "      <th></th>\n",
       "      <th>City</th>\n",
       "      <th>Region</th>\n",
       "      <th>Latitude</th>\n",
       "      <th>Longitude</th>\n",
       "    </tr>\n",
       "  </thead>\n",
       "  <tbody>\n",
       "    <tr>\n",
       "      <th>1</th>\n",
       "      <td>Świnoujście</td>\n",
       "      <td>Świnoujście</td>\n",
       "      <td>53.904445</td>\n",
       "      <td>14.266023</td>\n",
       "    </tr>\n",
       "    <tr>\n",
       "      <th>2</th>\n",
       "      <td>Świnoujście</td>\n",
       "      <td>Świnoujście</td>\n",
       "      <td>53.904445</td>\n",
       "      <td>14.266023</td>\n",
       "    </tr>\n",
       "    <tr>\n",
       "      <th>3</th>\n",
       "      <td>Świnoujście</td>\n",
       "      <td>Świnoujście</td>\n",
       "      <td>53.904445</td>\n",
       "      <td>14.266023</td>\n",
       "    </tr>\n",
       "    <tr>\n",
       "      <th>4</th>\n",
       "      <td>Świnoujście</td>\n",
       "      <td>Świnoujście</td>\n",
       "      <td>53.904445</td>\n",
       "      <td>14.266023</td>\n",
       "    </tr>\n",
       "    <tr>\n",
       "      <th>5</th>\n",
       "      <td>Świnoujście</td>\n",
       "      <td>Świnoujście</td>\n",
       "      <td>53.904445</td>\n",
       "      <td>14.266023</td>\n",
       "    </tr>\n",
       "    <tr>\n",
       "      <th>...</th>\n",
       "      <td>...</td>\n",
       "      <td>...</td>\n",
       "      <td>...</td>\n",
       "      <td>...</td>\n",
       "    </tr>\n",
       "    <tr>\n",
       "      <th>1402</th>\n",
       "      <td>Jaworzynka</td>\n",
       "      <td>cieszyński</td>\n",
       "      <td>49.527901</td>\n",
       "      <td>18.859085</td>\n",
       "    </tr>\n",
       "    <tr>\n",
       "      <th>1403</th>\n",
       "      <td>Małe Ciche</td>\n",
       "      <td>tatrzański</td>\n",
       "      <td>49.303148</td>\n",
       "      <td>20.072864</td>\n",
       "    </tr>\n",
       "    <tr>\n",
       "      <th>1404</th>\n",
       "      <td>Sarniki</td>\n",
       "      <td>braniewski</td>\n",
       "      <td>54.417277</td>\n",
       "      <td>20.017651</td>\n",
       "    </tr>\n",
       "    <tr>\n",
       "      <th>1405</th>\n",
       "      <td>Robity</td>\n",
       "      <td>bartoszycki</td>\n",
       "      <td>54.390181</td>\n",
       "      <td>20.365526</td>\n",
       "    </tr>\n",
       "    <tr>\n",
       "      <th>1406</th>\n",
       "      <td>Kierno</td>\n",
       "      <td>bartoszycki</td>\n",
       "      <td>54.376753</td>\n",
       "      <td>20.552622</td>\n",
       "    </tr>\n",
       "  </tbody>\n",
       "</table>\n",
       "<p>1406 rows × 4 columns</p>\n",
       "</div>"
      ],
      "text/plain": [
       "             City       Region   Latitude  Longitude\n",
       "1     Świnoujście  Świnoujście  53.904445  14.266023\n",
       "2     Świnoujście  Świnoujście  53.904445  14.266023\n",
       "3     Świnoujście  Świnoujście  53.904445  14.266023\n",
       "4     Świnoujście  Świnoujście  53.904445  14.266023\n",
       "5     Świnoujście  Świnoujście  53.904445  14.266023\n",
       "...           ...          ...        ...        ...\n",
       "1402   Jaworzynka   cieszyński  49.527901  18.859085\n",
       "1403   Małe Ciche   tatrzański  49.303148  20.072864\n",
       "1404      Sarniki   braniewski  54.417277  20.017651\n",
       "1405       Robity  bartoszycki  54.390181  20.365526\n",
       "1406       Kierno  bartoszycki  54.376753  20.552622\n",
       "\n",
       "[1406 rows x 4 columns]"
      ]
     },
     "execution_count": 19,
     "metadata": {},
     "output_type": "execute_result"
    }
   ],
   "source": [
    "df_copy"
   ]
  },
  {
   "cell_type": "code",
   "execution_count": 20,
   "metadata": {},
   "outputs": [],
   "source": [
    "num_records_with_nan = df_copy.isna().any(axis=1).sum()"
   ]
  },
  {
   "cell_type": "code",
   "execution_count": 21,
   "metadata": {},
   "outputs": [
    {
     "data": {
      "text/plain": [
       "0"
      ]
     },
     "execution_count": 21,
     "metadata": {},
     "output_type": "execute_result"
    }
   ],
   "source": [
    "num_records_with_nan"
   ]
  },
  {
   "cell_type": "code",
   "execution_count": null,
   "metadata": {},
   "outputs": [],
   "source": []
  }
 ],
 "metadata": {
  "kernelspec": {
   "display_name": "Python 3",
   "language": "python",
   "name": "python3"
  },
  "language_info": {
   "codemirror_mode": {
    "name": "ipython",
    "version": 3
   },
   "file_extension": ".py",
   "mimetype": "text/x-python",
   "name": "python",
   "nbconvert_exporter": "python",
   "pygments_lexer": "ipython3",
   "version": "3.12.0"
  }
 },
 "nbformat": 4,
 "nbformat_minor": 2
}
