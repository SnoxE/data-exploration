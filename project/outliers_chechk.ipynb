import pandas as pd
import numpy as np
import matplotlib.pyplot as plt
from scipy.spatial.distance import cdist
from sklearn.preprocessing import StandardScaler
from sklearn.preprocessing import MinMaxScaler
file_path = '215d3c1ea7d0c562774a8c6e4b157ac0.xlsx'
data = pd.ExcelFile(file_path)
data.sheet_names
df = data.parse('2022')
columns_to_extract = [
    "Odczyn pH - wartość terenowa",
    "Temperatura - wartość terenowa [°C]",
]

start_column = "Ogólny węgiel organiczny [mgC/l]"
end_column = df.columns[-2]

columns_for_mineralization = df.loc[:, start_column:end_column]

columns_for_mineralization = columns_for_mineralization.replace({',': '.'}, regex=True)
columns_for_mineralization = columns_for_mineralization.replace({r'[<>]': ''}, regex=True)
columns_for_mineralization = columns_for_mineralization.apply(pd.to_numeric, errors='coerce')
columns_for_mineralization.head()
df_selected = df[columns_to_extract]

df_selected = df_selected.replace({',': '.'}, regex=True)
df_selected = df_selected.apply(pd.to_numeric, errors='coerce')

df_selected.columns = [
    "ph_field",
    "temp_field",
]
df_selected["mineralization"] = columns_for_mineralization.sum(axis=1)
range_column = "Przedział ujętej warstwy wodonośnej [m p.p.t.]"
range_data = df[range_column].dropna()

def calculate_mean_range(range_str):
    try:
        min_val, max_val = map(float, range_str.replace(',', '.').split('-'))
        return (min_val + max_val) / 2
    except Exception:
        return None

df_selected["depth"] = range_data.apply(calculate_mean_range)
df_selected.head()
file_path = 'cities_locations.xlsx'
cities_coordinates = pd.ExcelFile(file_path)
cities_coordinates.sheet_names
cities_coordinates_df = cities_coordinates.parse('Sheet1')
cities_coordinates_df.head()
df_selected = pd.concat([df_selected, cities_coordinates_df], axis=1)
df_selected.head()
def plot_histogram(dataFrame):
  fig, axes = plt.subplots(2, 2, figsize=(12, 10))
  labels = ["pH", "temperatury", "mineralizacji", "głębokości"]

  index = 0
  for ax, column in zip(axes.flatten(), dataFrame.columns):
      counts, bins, patches = ax.hist(dataFrame[column].dropna(), bins=30, edgecolor='black', alpha=0.7)

      for count, bin_patch in zip(counts, patches):
          x_pos = bin_patch.get_x() + bin_patch.get_width() / 2  # Center text
          ax.text(x_pos, count, str(int(count) if count != 0 else ''), ha='center', va='bottom', fontsize=10)

      # ax.hist(df_selected[column].dropna(), bins=30, edgecolor='black', alpha=0.7, histtype='step')
      ax.set_title(f"Histogram wartości {labels[index]}")
      ax.set_xlabel(column)
      ax.set_ylabel("Częstotliwość wystąpień")
      ax.grid(True)
      index += 1

  plt.tight_layout()
  plt.show()